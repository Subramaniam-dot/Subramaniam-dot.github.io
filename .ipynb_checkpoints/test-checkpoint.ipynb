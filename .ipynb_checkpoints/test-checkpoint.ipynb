{
  "cells": [
    {
      "cell_type": "raw",
      "metadata": {},
      "source": [
        "---\n",
        "title: \"Test Document\"\n",
        "format: html\n",
        "---"
      ],
      "id": "1542c254"
    },
    {
      "cell_type": "markdown",
      "metadata": {},
      "source": [
        "print(\"Hello, Quarto!\")"
      ],
      "id": "562b3861"
    }
  ],
  "metadata": {
    "kernelspec": {
      "name": "python3",
      "language": "python",
      "display_name": "Python 3 (ipykernel)"
    }
  },
  "nbformat": 4,
  "nbformat_minor": 5
}